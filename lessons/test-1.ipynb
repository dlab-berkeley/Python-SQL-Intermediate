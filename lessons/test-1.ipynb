{
 "cells": [
  {
   "cell_type": "markdown",
   "id": "intro-title",
   "metadata": {},
   "source": [
    "# SQL Intermediate: Window Functions Introduction\n",
    "\n",
    "* * * \n",
    "\n",
    "<div class=\"alert alert-success\">  \n",
    "    \n",
    "### Learning Objectives \n",
    "\n",
    "* Understand what window functions are and why they're useful\n",
    "* Learn the syntax and structure of window functions\n",
    "* Compare window functions with GROUP BY aggregations\n",
    "* Implement basic window functions with OVER, PARTITION BY, and ORDER BY\n",
    "* Apply ranking functions to find top N items in each group\n",
    "</div>\n",
    "\n",
    "### Icons Used in This Notebook\n",
    "🔔 **Question**: A quick question to help you understand what's going on.<br>\n",
    "💡 **Tip**: How to do something a bit more efficiently or effectively.<br>\n",
    "🥊 **Challenge**: Interactive exercise to practice what you've learned.<br>\n",
    "⚠️ **Warning**: Heads-up about tricky stuff or common mistakes.<br>\n",
    "\n",
    "### Sections\n",
    "1. [Setup](#setup)\n",
    "2. [Introduction to Window Functions](#intro)\n",
    "3. [Window Function Syntax](#syntax)\n",
    "4. [Comparison: Window Functions vs. GROUP BY](#comparison)\n",
    "5. [Basic Window Functions](#basic)\n",
    "6. [Ranking Functions](#ranking)\n",
    "7. [Practice Exercises](#practice)"
   ]
  },
  {
   "cell_type": "markdown",
   "id": "setup",
   "metadata": {},
   "source": [
    "<a id='setup'></a>\n",
    "\n",
    "## Setup\n",
    "\n",
    "Let's start by loading the SQL extension for Jupyter and connecting to our Northwind database:"
   ]
  },
  {
   "cell_type": "code",
   "execution_count": null,
   "id": "setup-code",
   "metadata": {},
   "outputs": [],
   "source": [
    "%load_ext sql\n",
    "%sql sqlite:///data/northwind.db"
   ]
  },
  {
   "cell_type": "markdown",
   "id": "intro-section",
   "metadata": {},
   "source": [
    "<a id='intro'></a>\n",
    "\n",
    "## Introduction to Window Functions\n",
    "\n",
    "### What are Window Functions?\n",
    "\n",
    "Window functions are a powerful feature of SQL that perform calculations across a set of table rows that are somehow related to the current row. This is different from regular aggregate functions that group rows into a single output row.\n",
    "\n",
    "With window functions, you can:\n",
    "- Calculate running totals, moving averages, and cumulative distributions\n",
    "- Rank items within groups or across the entire dataset\n",
    "- Access values from previous or subsequent rows alongside the current row\n",
    "- Compute percentiles and other statistical measures within partitions of your data\n",
    "\n",
    "### Why are Window Functions Valuable?\n",
    "\n",
    "1. **Efficiency**: They allow complex calculations without multiple self-joins or subqueries\n",
    "2. **Expressiveness**: They make it easier to express certain analytical queries\n",
    "3. **Performance**: They can be more performant than equivalent queries using joins or subqueries\n",
    "4. **Readability**: They often make SQL code more readable and maintainable\n",
    "\n",
    "### Real-world Use Cases\n",
    "\n",
    "- **Financial Analysis**: Calculate month-over-month changes, running balances, and rolling averages\n",
    "- **Sales Analysis**: Identify top products by category, track cumulative sales, and compare to previous periods\n",
    "- **User Analytics**: Analyze user engagement over time, and identify behavior patterns\n",
    "- **Scientific Research**: Perform moving calculations on time-series data\n",
    "- **Data Visualization**: Prepare data for visualization with ranks, percentiles, and relative metrics"
   ]
  },
  {
   "cell_type": "markdown",
   "id": "syntax-section",
   "metadata": {},
   "source": [
    "<a id='syntax'></a>\n",
    "\n",
    "## Window Function Syntax\n",
    "\n",
    "The basic syntax of a window function is:\n",
    "\n",
    "```sql\n",
    "SELECT column1, column2,\n",
    "       WINDOW_FUNCTION() OVER ([PARTITION BY column3] [ORDER BY column4] [frame_clause])\n",
    "FROM table;\n",
    "```\n",
    "\n",
    "Let's break down each component:\n",
    "\n",
    "1. **WINDOW_FUNCTION()**: The function to apply (SUM, AVG, RANK, ROW_NUMBER, etc.)\n",
    "\n",
    "2. **OVER clause**: Defines the window or set of rows the function operates on\n",
    "\n",
    "3. **PARTITION BY** (optional): Divides the rows into groups or partitions. The window function is applied to each partition separately.\n",
    "\n",
    "4. **ORDER BY** (optional): Defines the order in which rows are processed within each partition.\n",
    "\n",
    "5. **Frame clause** (optional): Specifies which rows to include in the window relative to the current row (e.g., ROWS BETWEEN 1 PRECEDING AND 1 FOLLOWING).\n",
    "\n",
    "### Common Window Functions\n",
    "\n",
    "Window functions generally fall into three categories:\n",
    "\n",
    "1. **Aggregate Window Functions**\n",
    "   - SUM(), AVG(), COUNT(), MIN(), MAX()\n",
    "   - These are standard aggregate functions used with the OVER clause\n",
    "\n",
    "2. **Ranking Window Functions**\n",
    "   - ROW_NUMBER(): Unique sequential integer for each row\n",
    "   - RANK(): Rank with gaps for ties\n",
    "   - DENSE_RANK(): Rank without gaps for ties\n",
    "   - NTILE(n): Divides rows into n roughly equal groups\n",
    "\n",
    "3. **Value Window Functions**\n",
    "   - LEAD(): Access data from subsequent rows\n",
    "   - LAG(): Access data from previous rows\n",
    "   - FIRST_VALUE(): First value in the window\n",
    "   - LAST_VALUE(): Last value in the window"
   ]
  },
  {
   "cell_type": "markdown",
   "id": "comparison-section",
   "metadata": {},
   "source": [
    "<a id='comparison'></a>\n",
    "\n",
    "## Comparison: Window Functions vs. GROUP BY\n",
    "\n",
    "Let's compare window functions with traditional GROUP BY aggregations to understand their differences:\n",
    "\n",
    "### GROUP BY Aggregation\n",
    "\n",
    "The following query calculates the average product price by category:"
   ]
  },
  {
   "cell_type": "code",
   "execution_count": null,
   "id": "group-by-example",
   "metadata": {},
   "outputs": [],
   "source": [
    "%%sql\n",
    "SELECT\n",
    "    CategoryID,\n",
    "    AVG(UnitPrice) AS AvgPrice\n",
    "FROM\n",
    "    Products\n",
    "GROUP BY\n",
    "    CategoryID\n",
    "ORDER BY\n",
    "    CategoryID;"
   ]
  },
  {
   "cell_type": "markdown",
   "id": "window-vs-group",
   "metadata": {},
   "source": [
    "### Window Function Equivalent\n",
    "\n",
    "Now let's see the same calculation using a window function, but with a crucial difference: we keep all the original rows and product details."
   ]
  },
  {
   "cell_type": "code",
   "execution_count": null,
   "id": "window-function-example",
   "metadata": {},
   "outputs": [],
   "source": [
    "%%sql\n",
    "SELECT\n",
    "    ProductID,\n",
    "    ProductName,\n",
    "    CategoryID,\n",
    "    UnitPrice,\n",
    "    AVG(UnitPrice) OVER (PARTITION BY CategoryID) AS CategoryAvgPrice\n",
    "FROM\n",
    "    Products\n",
    "ORDER BY\n",
    "    CategoryID, ProductID\n",
    "LIMIT 10;"
   ]
  },
  {
   "cell_type": "markdown",
   "id": "comparison-explanation",
   "metadata": {},
   "source": [
    "### Key Differences\n",
    "\n",
    "1. **Row Preservation**:\n",
    "   - GROUP BY: Collapses rows into a single row per group\n",
    "   - Window Functions: Preserves all rows, adding calculated values as new columns\n",
    "\n",
    "2. **Access to Individual Values**:\n",
    "   - GROUP BY: Loses access to individual row values within each group\n",
    "   - Window Functions: Maintains access to all individual values alongside aggregated results\n",
    "\n",
    "3. **Multiple Aggregations**:\n",
    "   - GROUP BY: Can perform multiple aggregations but still only returns one row per group\n",
    "   - Window Functions: Can compute multiple aggregations alongside individual row data\n",
    "\n",
    "4. **Complex Calculations**:\n",
    "   - GROUP BY: For calculations involving individual and aggregate values, you'd need subqueries or self-joins\n",
    "   - Window Functions: Can directly compare individual values to aggregated results in a single query\n",
    "\n",
    "🔔 **Question**: Can you think of a situation where you'd prefer a GROUP BY over a window function?"
   ]
  },
  {
   "cell_type": "markdown",
   "id": "basic-window-section",
   "metadata": {},
   "source": [
    "<a id='basic'></a>\n",
    "\n",
    "## Basic Window Functions\n",
    "\n",
    "Now let's explore some basic window functions in more detail.\n",
    "\n",
    "### Running Totals\n",
    "\n",
    "Let's calculate a running total of order values for a specific customer:"
   ]
  },
  {
   "cell_type": "code",
   "execution_count": null,
   "id": "running-total-example",
   "metadata": {},
   "outputs": [],
   "source": [
    "%%sql\n",
    "WITH OrderValues AS (\n",
    "    SELECT \n",
    "        o.OrderID, \n",
    "        o.CustomerID, \n",
    "        o.OrderDate,\n",
    "        SUM(od.UnitPrice * od.Quantity * (1 - od.Discount)) AS OrderValue\n",
    "    FROM \n",
    "        Orders o\n",
    "    JOIN \n",
    "        \"Order Details\" od ON o.OrderID = od.OrderID\n",
    "    WHERE \n",
    "        o.CustomerID = 'ALFKI'\n",
    "    GROUP BY \n",
    "        o.OrderID, o.CustomerID, o.OrderDate\n",
    ")\n",
    "SELECT \n",
    "    OrderID, \n",
    "    OrderDate, \n",
    "    OrderValue,\n",
    "    SUM(OrderValue) OVER (\n",
    "        ORDER BY OrderDate\n",
    "        ROWS UNBOUNDED PRECEDING\n",
    "    ) AS RunningTotal\n",
    "FROM \n",
    "    OrderValues\n",
    "ORDER BY \n",
    "    OrderDate;"
   ]
  },
  {
   "cell_type": "markdown",
   "id": "partition-by-section",
   "metadata": {},
   "source": [
    "### Partitioning Data\n",
    "\n",
    "Let's analyze product prices in relation to their category averages:"
   ]
  },
  {
   "cell_type": "code",
   "execution_count": null,
   "id": "partition-example",
   "metadata": {},
   "outputs": [],
   "source": [
    "%%sql\n",
    "SELECT\n",
    "    p.ProductName,\n",
    "    c.CategoryName,\n",
    "    p.UnitPrice,\n",
    "    AVG(p.UnitPrice) OVER (PARTITION BY p.CategoryID) AS CategoryAvgPrice,\n",
    "    p.UnitPrice - AVG(p.UnitPrice) OVER (PARTITION BY p.CategoryID) AS PriceDifference,\n",
    "    ROUND(p.UnitPrice / AVG(p.UnitPrice) OVER (PARTITION BY p.CategoryID) * 100 - 100, 2) AS PricePercentDiff\n",
    "FROM\n",
    "    Products p\n",
    "JOIN\n",
    "    Categories c ON p.CategoryID = c.CategoryID\n",
    "ORDER BY\n",
    "    c.CategoryName, PricePercentDiff DESC\n",
    "LIMIT 15;"
   ]
  },
  {
   "cell_type": "markdown",
   "id": "moving-avg-section",
   "metadata": {},
   "source": [
    "### Moving Averages\n",
    "\n",
    "Let's calculate a 3-month moving average of order values:"
   ]
  },
  {
   "cell_type": "code",
   "execution_count": null,
   "id": "moving-avg-example",
   "metadata": {},
   "outputs": [],
   "source": [
    "%%sql\n",
    "WITH MonthlyOrders AS (\n",
    "    SELECT\n",
    "        strftime('%Y-%m', OrderDate) AS YearMonth,\n",
    "        SUM(Freight) AS TotalFreight\n",
    "    FROM\n",
    "        Orders\n",
    "    GROUP BY\n",
    "        YearMonth\n",
    "    ORDER BY\n",
    "        YearMonth\n",
    ")\n",
    "SELECT\n",
    "    YearMonth,\n",
    "    TotalFreight,\n",
    "    AVG(TotalFreight) OVER (\n",
    "        ORDER BY YearMonth\n",
    "        ROWS BETWEEN 2 PRECEDING AND CURRENT ROW\n",
    "    ) AS MovingAvg3Month\n",
    "FROM\n",
    "    MonthlyOrders;"
   ]
  },
  {
   "cell_type": "markdown",
   "id": "lag-lead-section",
   "metadata": {},
   "source": [
    "### LAG and LEAD Functions\n",
    "\n",
    "LAG and LEAD functions let you access data from previous or subsequent rows without using self-joins:"
   ]
  },
  {
   "cell_type": "code",
   "execution_count": null,
   "id": "lag-lead-example",
   "metadata": {},
   "outputs": [],
   "source": [
    "%%sql\n",
    "WITH MonthlyOrders AS (\n",
    "    SELECT\n",
    "        strftime('%Y-%m', OrderDate) AS YearMonth,\n",
    "        COUNT(*) AS OrderCount\n",
    "    FROM\n",
    "        Orders\n",
    "    GROUP BY\n",
    "        YearMonth\n",
    "    ORDER BY\n",
    "        YearMonth\n",
    ")\n",
    "SELECT\n",
    "    YearMonth,\n",
    "    OrderCount,\n",
    "    LAG(OrderCount, 1) OVER (ORDER BY YearMonth) AS PreviousMonthOrders,\n",
    "    OrderCount - LAG(OrderCount, 1) OVER (ORDER BY YearMonth) AS MonthlyChange,\n",
    "    LEAD(OrderCount, 1) OVER (ORDER BY YearMonth) AS NextMonthOrders\n",
    "FROM\n",
    "    MonthlyOrders\n",
    "ORDER BY\n",
    "    YearMonth;"
   ]
  },
  {
   "cell_type": "markdown",
   "id": "ranking-section",
   "metadata": {},
   "source": [
    "<a id='ranking'></a>\n",
    "\n",
    "## Ranking Functions\n",
    "\n",
    "Ranking functions are a powerful subset of window functions that allow you to assign ranks to rows based on specified criteria.\n",
    "\n",
    "### ROW_NUMBER(), RANK(), and DENSE_RANK()\n",
    "\n",
    "Let's compare the three main ranking functions by looking at product prices:"
   ]
  },
  {
   "cell_type": "code",
   "execution_count": null,
   "id": "ranking-example",
   "metadata": {},
   "outputs": [],
   "source": [
    "%%sql\n",
    "SELECT\n",
    "    ProductName,\n",
    "    CategoryID,\n",
    "    UnitPrice,\n",
    "    ROW_NUMBER() OVER (PARTITION BY CategoryID ORDER BY UnitPrice DESC) AS RowNum,\n",
    "    RANK() OVER (PARTITION BY CategoryID ORDER BY UnitPrice DESC) AS Rank,\n",
    "    DENSE_RANK() OVER (PARTITION BY CategoryID ORDER BY UnitPrice DESC) AS DenseRank\n",
    "FROM\n",
    "    Products\n",
    "WHERE\n",
    "    CategoryID IN (1, 2, 3)\n",
    "ORDER BY\n",
    "    CategoryID, UnitPrice DESC;"
   ]
  },
  {
   "cell_type": "markdown",
   "id": "ranking-explanation",
   "metadata": {},
   "source": [
    "### Key Differences Between Ranking Functions\n",
    "\n",
    "1. **ROW_NUMBER()**:\n",
    "   - Assigns a unique, sequential integer to each row\n",
    "   - Even for rows with identical values, assigns different numbers\n",
    "   - Always gives you consecutive numbers (1, 2, 3, 4, ...)\n",
    "\n",
    "2. **RANK()**:\n",
    "   - Assigns the same rank to rows with identical values\n",
    "   - Skips the next rank(s) after ties\n",
    "   - May result in gaps (1, 1, 3, 4, ...)\n",
    "\n",
    "3. **DENSE_RANK()**:\n",
    "   - Assigns the same rank to rows with identical values\n",
    "   - Does NOT skip ranks after ties\n",
    "   - Never leaves gaps (1, 1, 2, 3, ...)\n",
    "\n",
    "### Top N Items per Group\n",
    "\n",
    "A common use case for ranking functions is finding the top N items within each group:"
   ]
  },
  {
   "cell_type": "code",
   "execution_count": null,
   "id": "top-n-example",
   "metadata": {},
   "outputs": [],
   "source": [
    "%%sql\n",
    "-- Find the top 3 most expensive products in each category\n",
    "WITH RankedProducts AS (\n",
    "    SELECT\n",
    "        p.ProductName,\n",
    "        c.CategoryName,\n",
    "        p.UnitPrice,\n",
    "        RANK() OVER (PARTITION BY p.CategoryID ORDER BY p.UnitPrice DESC) AS PriceRank\n",
    "    FROM\n",
    "        Products p\n",
    "    JOIN\n",
    "        Categories c ON p.CategoryID = c.CategoryID\n",
    ")\n",
    "SELECT\n",
    "    CategoryName,\n",
    "    ProductName,\n",
    "    UnitPrice,\n",
    "    PriceRank\n",
    "FROM\n",
    "    RankedProducts\n",
    "WHERE\n",
    "    PriceRank <= 3\n",
    "ORDER BY\n",
    "    CategoryName, PriceRank;"
   ]
  },
  {
   "cell_type": "markdown",
   "id": "ntile-section",
   "metadata": {},
   "source": [
    "### NTILE Function\n",
    "\n",
    "The NTILE function divides rows into a specified number of roughly equal groups:"
   ]
  },
  {
   "cell_type": "code",
   "execution_count": null,
   "id": "ntile-example",
   "metadata": {},
   "outputs": [],
   "source": [
    "%%sql\n",
    "-- Divide products into price quartiles within each category\n",
    "SELECT\n",
    "    p.ProductName,\n",
    "    c.CategoryName,\n",
    "    p.UnitPrice,\n",
    "    NTILE(4) OVER (PARTITION BY p.CategoryID ORDER BY p.UnitPrice) AS PriceQuartile\n",
    "FROM\n",
    "    Products p\n",
    "JOIN\n",
    "    Categories c ON p.CategoryID = c.CategoryID\n",
    "WHERE\n",
    "    c.CategoryName IN ('Beverages', 'Condiments')\n",
    "ORDER BY\n",
    "    c.CategoryName, PriceQuartile, p.UnitPrice;"
   ]
  },
  {
   "cell_type": "markdown",
   "id": "practice-section",
   "metadata": {},
   "source": [
    "<a id='practice'></a>\n",
    "\n",
    "## Practice Exercises\n",
    "\n",
    "Now let's practice with some exercises to reinforce what you've learned.\n",
    "\n",
    "### 🥊 Challenge 1: Customer Order Analysis\n",
    "\n",
    "Write a query that shows for each customer:\n",
    "- Their company name\n",
    "- Total number of orders they've placed\n",
    "- Their average order value\n",
    "- The date of their most recent order\n",
    "- The value of their most recent order\n",
    "- The difference between their most recent order value and their average order value"
   ]
  },
  {
   "cell_type": "code",
   "execution_count": null,
   "id": "challenge-1",
   "metadata": {},
   "outputs": [],
   "source": [
    "%%sql\n",
    "-- Your solution here"
   ]
  },
  {
   "cell_type": "markdown",
   "id": "challenge-2-desc",
   "metadata": {},
   "source": [
    "### 🥊 Challenge 2: Employee Performance Comparison\n",
    "\n",
    "Create a query that shows, for each employee:\n",
    "- Their full name (FirstName + LastName)\n",
    "- The number of orders they've processed in each month of 1997\n",
    "- The total number of orders processed by all employees in each month\n",
    "- The percentage of total orders they processed that month\n",
    "- Their rank in terms of order count for each month"
   ]
  },
  {
   "cell_type": "code",
   "execution_count": null,
   "id": "challenge-2",
   "metadata": {},
   "outputs": [],
   "source": [
    "%%sql\n",
    "-- Your solution here"
   ]
  },
  {
   "cell_type": "markdown",
   "id": "challenge-3-desc",
   "metadata": {},
   "source": [
    "### 🥊 Challenge 3: Product Sales Analysis\n",
    "\n",
    "Write a query that identifies products with consistently increasing or decreasing sales over three consecutive months in 1997. For each product, show:\n",
    "- The product name\n",
    "- The three consecutive months\n",
    "- The quantity sold in each month\n",
    "- Whether sales are 'Increasing', 'Decreasing', or 'Fluctuating'"
   ]
  },
  {
   "cell_type": "code",
   "execution_count": null,
   "id": "challenge-3",
   "metadata": {},
   "outputs": [],
   "source": [
    "%%sql\n",
    "-- Your solution here"
   ]
  },
  {
   "cell_type": "markdown",
   "id": "conclusion",
   "metadata": {},
   "source": [
    "## Conclusion\n",
    "\n",
    "In this notebook, we've introduced window functions and explored their power for advanced SQL analysis. Window functions allow you to:\n",
    "\n",
    "- Perform calculations across specified sets of rows\n",
    "- Maintain all individual rows while adding aggregated information\n",
    "- Create running totals, moving averages, and other sequential analyses\n",
    "- Rank and compare items within groups\n",
    "- Analyze trends and patterns in your data more effectively\n",
    "\n",
    "In the next notebook, we'll dive deeper into advanced window function techniques and real-world applications."
   ]
  }
 ],
 "metadata": {
  "kernelspec": {
   "display_name": "Python 3 (ipykernel)",
   "language": "python",
   "name": "python3"
  },
  "language_info": {
   "codemirror_mode": {
    "name": "ipython",
    "version": 3
   },
   "file_extension": ".py",
   "mimetype": "text/x-python",
   "name": "python",
   "nbconvert_exporter": "python",
   "pygments_lexer": "ipython3",
   "version": "3.11.7"
  }
 },
 "nbformat": 4,
 "nbformat_minor": 5
}